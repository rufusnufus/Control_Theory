{
  "nbformat": 4,
  "nbformat_minor": 0,
  "metadata": {
    "colab": {
      "name": "HW2",
      "provenance": [],
      "collapsed_sections": []
    },
    "kernelspec": {
      "name": "python3",
      "display_name": "Python 3"
    }
  },
  "cells": [
    {
      "cell_type": "markdown",
      "metadata": {
        "id": "P3fTOICFT5WI",
        "colab_type": "text"
      },
      "source": [
        "###PD controller for spring-mass-damper system"
      ]
    },
    {
      "cell_type": "code",
      "metadata": {
        "id": "rQeR4s2zKqfc",
        "colab_type": "code",
        "outputId": "bc4f2b72-ee60-4ea8-8fca-ddd51c8c8ff1",
        "colab": {
          "base_uri": "https://localhost:8080/",
          "height": 296
        }
      },
      "source": [
        "import numpy as np\n",
        "from math import sin, cos, sqrt\n",
        "from scipy.integrate import odeint\n",
        "import matplotlib.pyplot as plt\n",
        "from scipy.signal import place_poles\n",
        "from scipy.misc import derivative as dt\n",
        "\n",
        "#time\n",
        "start = 0\n",
        "end = 10\n",
        "quantity = 1000\n",
        "\n",
        "t = np.linspace(start,end,quantity)\n",
        "\n",
        "#coefficients\n",
        "k = 2\n",
        "m = 1\n",
        "b = 2\n",
        "\n",
        "#state matrix\n",
        "A = np.array([[0,1],[-k/m, -b/m]])\n",
        "#another matrix, I do not know it's name\n",
        "B = np.array([[0],[1/m]])\n",
        "#matrix with Kp and Kd coefficients\n",
        "K = np.array([[60, 12]])\n",
        "\n",
        "def trajectory(t):\n",
        "  if t < 5:\n",
        "    x_desired = 0\n",
        "    x_desired_prime = 0\n",
        "  else:\n",
        "    x_desired = 1\n",
        "    x_desired_prime = 0\n",
        "  # x_desired = 5*t\n",
        "  # x_desired_prime = t\n",
        "  vector_x = np.array([x_desired, x_desired_prime])\n",
        "  return vector_x\n",
        "\n",
        "def e(x0, time):\n",
        "  err = trajectory(time)[0] - x0[0]\n",
        "  err_dot = trajectory(time)[-1] - x0[-1]\n",
        "  matrix = np.array([err,err_dot])\n",
        "  return matrix\n",
        "\n",
        "def ODE(x0, time):\n",
        "  x0 = np.reshape(x0, (2,1))\n",
        "  u = K.dot(e(x0,time))\n",
        "  return (A.dot(x0) + B.dot(u)).reshape(2,)\n",
        "\n",
        "x0 = np.random.uniform(-1,1, 2)\n",
        "x0 = np.array([0,0])\n",
        "solution = odeint(ODE, x0, t)\n",
        "plt.plot(t, solution[:,0], label='x(t)')\n",
        "trajectory_graph = [trajectory(i)[0] for i in t]\n",
        "plt.plot(t, trajectory_graph, label='trajectory')\n",
        "plt.legend()\n",
        "plt.xlabel('time')\n",
        "plt.ylabel('x')\n",
        "plt.show()\n",
        "\n",
        "e, _ = np.linalg.eig(A-B.dot(K))\n",
        "print(\"Eigenvalues of A-BK matrix:\", e)"
      ],
      "execution_count": 0,
      "outputs": [
        {
          "output_type": "display_data",
          "data": {
            "image/png": "[encoded data removed]",
            "text/plain": [
              "<Figure size 432x288 with 1 Axes>"
            ]
          },
          "metadata": {
            "tags": []
          }
        },
        {
          "output_type": "stream",
          "text": [
            "Eigenvalues of A-BK matrix: [-7.+3.60555128j -7.-3.60555128j]\n"
          ],
          "name": "stdout"
        }
      ]
    },
    {
      "cell_type": "markdown",
      "metadata": {
        "id": "ntAH_IWMUIQ9",
        "colab_type": "text"
      },
      "source": [
        "###PID controller for spring-mass-damper system"
      ]
    },
    {
      "cell_type": "code",
      "metadata": {
        "id": "STvBu6H5oyoc",
        "colab_type": "code",
        "outputId": "47038e01-6ed4-4760-905a-434334f32e43",
        "colab": {
          "base_uri": "https://localhost:8080/",
          "height": 279
        }
      },
      "source": [
        "from scipy.integrate import quad\n",
        "\n",
        "K_new = np.array([[60, 12, 5]])\n",
        "\n",
        "def integrate(x0, time):\n",
        "  dt = time[1]-time[0]\n",
        "  x = np.empty([len(time), 2])\n",
        "  \n",
        "  x[0, :] = x0\n",
        "  err_i = 0\n",
        "  for i in range(1, len(time)):\n",
        "    err = trajectory(time[i-1])[0] - x[i-1,0]\n",
        "    err_dot = trajectory(time[i-1])[1] - x[i-1,1]\n",
        "    err_i = err_i + (trajectory(time[i-1])[0] - x[i-1,0])*dt\n",
        "    e = np.array([err, err_dot, err_i]).reshape(3,1)\n",
        "    x_prime = A.dot(x[i-1]).reshape(2,1) + B.dot(K_new.dot(e))\n",
        "    x[i,:] = (x[i-1].reshape(2,1) + x_prime.dot(dt)).reshape(2,)\n",
        "  return x\n",
        "\n",
        "solution2 = integrate(x0, t)\n",
        "plt.plot(t, solution[:,0], label='x_pd(t)')\n",
        "plt.plot(t, trajectory_graph, label='trajectory')\n",
        "plt.plot(t, solution2[:,0], label='x_pid(t)')\n",
        "plt.legend()\n",
        "plt.xlabel('time')\n",
        "plt.ylabel('x')\n",
        "plt.show()"
      ],
      "execution_count": 0,
      "outputs": [
        {
          "output_type": "display_data",
          "data": {
            "image/png": "[encoded data removed]",
            "text/plain": [
              "<Figure size 432x288 with 1 Axes>"
            ]
          },
          "metadata": {
            "tags": []
          }
        }
      ]
    }
  ]
}