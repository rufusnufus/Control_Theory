{
  "nbformat": 4,
  "nbformat_minor": 0,
  "metadata": {
    "colab": {
      "name": "HW3",
      "provenance": [],
      "collapsed_sections": []
    },
    "kernelspec": {
      "name": "python3",
      "display_name": "Python 3"
    }
  },
  "cells": [
    {
      "cell_type": "markdown",
      "metadata": {
        "id": "y5W5hY1HllLf",
        "colab_type": "text"
      },
      "source": [
        "Initial matrices and coefficients for inverted pendulum system."
      ]
    },
    {
      "cell_type": "code",
      "metadata": {
        "id": "S-DsidHHOI7j",
        "colab_type": "code",
        "colab": {}
      },
      "source": [
        "import numpy as np\n",
        "\n",
        "g = 9.8\n",
        "m = 1\n",
        "M = 4\n",
        "l = 0.8\n",
        "\n",
        "t = np.linspace(0,15,1000)\n",
        "\n",
        "A = np.array([[0,             0, 1, 0],\n",
        "              [0,             0, 0, 1],\n",
        "              [0,         m*g/M, 0, 0],\n",
        "              [0, (M+m)*g/(M*l), 0, 0]])\n",
        "\n",
        "B = np.array([[0],[0], [1/M], [1/(M*l)]])"
      ],
      "execution_count": 0,
      "outputs": []
    },
    {
      "cell_type": "markdown",
      "metadata": {
        "id": "ckpw9k0glfFy",
        "colab_type": "text"
      },
      "source": [
        "Check whether the system is stable or not"
      ]
    },
    {
      "cell_type": "code",
      "metadata": {
        "id": "fT_UkzTXjqW3",
        "colab_type": "code",
        "outputId": "7d568087-938d-4c45-ec2c-99642218990a",
        "colab": {
          "base_uri": "https://localhost:8080/",
          "height": 34
        }
      },
      "source": [
        "e, v = np.linalg.eig(A)\n",
        "print(\"Eigenvalues of A:\", e)"
      ],
      "execution_count": 0,
      "outputs": [
        {
          "output_type": "stream",
          "text": [
            "Eigenvalues of A: [ 0.          0.          3.91311896 -3.91311896]\n"
          ],
          "name": "stdout"
        }
      ]
    },
    {
      "cell_type": "markdown",
      "metadata": {
        "id": "NPdoL297lRi4",
        "colab_type": "text"
      },
      "source": [
        "Check the controllability"
      ]
    },
    {
      "cell_type": "code",
      "metadata": {
        "id": "bYh1zSS6dbVr",
        "colab_type": "code",
        "outputId": "d8eb3c9a-aa58-477c-d5da-230f83081f3b",
        "colab": {
          "base_uri": "https://localhost:8080/",
          "height": 34
        }
      },
      "source": [
        "C = np.concatenate([B, A.dot(B), A.dot(A).dot(B), A.dot(A).dot(A).dot(B)], axis=1)\n",
        "print(np.linalg.matrix_rank(C))"
      ],
      "execution_count": 0,
      "outputs": [
        {
          "output_type": "stream",
          "text": [
            "4\n"
          ],
          "name": "stdout"
        }
      ]
    },
    {
      "cell_type": "markdown",
      "metadata": {
        "id": "AO1BMGH0_uZE",
        "colab_type": "text"
      },
      "source": [
        "State feedback controller for linearized system using pole placement method"
      ]
    },
    {
      "cell_type": "code",
      "metadata": {
        "id": "Fag08KcMjfsu",
        "colab_type": "code",
        "outputId": "2f97aa61-bbc7-433e-a45a-30985e7a364a",
        "colab": {
          "base_uri": "https://localhost:8080/",
          "height": 279
        }
      },
      "source": [
        "from math import sin\n",
        "from scipy.integrate import odeint\n",
        "import matplotlib.pyplot as plt\n",
        "from scipy.signal import place_poles\n",
        "import math \n",
        "\n",
        "def ODE(x0, time, arg):\n",
        "  u = -arg.dot(x0)\n",
        "  return A.dot(x0) + B.dot(u)\n",
        "\n",
        "poles = np.array([-1,-2,-3,-4])\n",
        "K = place_poles(A,B, poles).gain_matrix\n",
        "x0 = np.array([2,0,0,0])\n",
        "solution1 = odeint(ODE, x0, t, (K, ))\n",
        "plt.plot(t, solution1[:,0], label='displacement')\n",
        "plt.plot(t, solution1[:,1], label='angle')\n",
        "plt.legend()\n",
        "plt.xlabel('t')\n",
        "plt.ylabel('z(t)')\n",
        "plt.show()"
      ],
      "execution_count": 0,
      "outputs": [
        {
          "output_type": "display_data",
          "data": {
            "image/png": "[encoded data removed]",
            "text/plain": [
              "<Figure size 432x288 with 1 Axes>"
            ]
          },
          "metadata": {
            "tags": []
          }
        }
      ]
    },
    {
      "cell_type": "markdown",
      "metadata": {
        "id": "Zh_bG2S7lL-K",
        "colab_type": "text"
      },
      "source": [
        "State feedback controller for linearized system using LQR method"
      ]
    },
    {
      "cell_type": "code",
      "metadata": {
        "id": "pj-hGHwh_2ed",
        "colab_type": "code",
        "outputId": "38492f5b-e5d2-44ae-8f93-fd3528152ade",
        "colab": {
          "base_uri": "https://localhost:8080/",
          "height": 279
        }
      },
      "source": [
        "from scipy.linalg import solve_continuous_are as are\n",
        "\n",
        "Q = np.array([[1, 0, 0, 0],\n",
        "              [0, 1, 0, 0],\n",
        "              [0, 0, 1, 0],\n",
        "              [0, 0, 0, 1]])\n",
        "Q = Q.dot(100)\n",
        "R = np.array([[1]])\n",
        "S = are(A, B, Q, R)\n",
        "\n",
        "K = (B.transpose()).dot(S)\n",
        "\n",
        "solution1 = odeint(ODE, x0, t, (K,))\n",
        "plt.plot(t, solution1[:,0], label='displacement')\n",
        "plt.plot(t, solution1[:,1], label='angle')\n",
        "plt.legend()\n",
        "plt.xlabel('t')\n",
        "plt.ylabel('z(t)')\n",
        "plt.show()"
      ],
      "execution_count": 0,
      "outputs": [
        {
          "output_type": "display_data",
          "data": {
            "image/png": "[encoded data removed]",
            "text/plain": [
              "<Figure size 432x288 with 1 Axes>"
            ]
          },
          "metadata": {
            "tags": []
          }
        }
      ]
    }
  ]
}