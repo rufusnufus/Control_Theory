{
  "nbformat": 4,
  "nbformat_minor": 0,
  "metadata": {
    "colab": {
      "name": "пруект_ето_моя_жызень.ipynb",
      "provenance": [],
      "collapsed_sections": []
    },
    "kernelspec": {
      "name": "python3",
      "display_name": "Python 3"
    }
  },
  "cells": [
    {
      "cell_type": "code",
      "metadata": {
        "id": "SDXPwYf9fggn",
        "colab_type": "code",
        "colab": {}
      },
      "source": [
        "import matplotlib.pyplot as plt\n",
        "\n",
        "# Some graph configurations\n",
        "plt.rcParams[\"figure.figsize\"] = (4,3)\n",
        "plt.rcParams[\"font.size\"] = 7\n",
        "plt.rcParams[\"figure.dpi\"] = 180\n",
        "plt.rcParams['lines.linewidth'] = 1\n",
        "\n",
        "# constants\n",
        "g = 9.80665   # using capital G as small g is reserved for functions below\n",
        "m1 = m2 = 0.2\n",
        "l1 = l2 = 1\n",
        "lc1 = lc2 = 0.5\n",
        "\n",
        "# computed constants\n",
        "I1 = (m1 * (lc1**2))/3\n",
        "I2 = (m2 * (lc2**2))/3\n",
        "Θ1 = m1*(lc1**2) +m2*(l1**2)+I1\n",
        "Θ2 = m2*(lc2**2) +I2\n",
        "Θ3 = m2*l1*lc2\n",
        "Θ4 = m1*lc1+m2*l1\n",
        "Θ5 = m2*lc2\n",
        "D = Θ1*Θ2 - (Θ3**2)"
      ],
      "execution_count": 0,
      "outputs": []
    },
    {
      "cell_type": "code",
      "metadata": {
        "id": "smw7KD40faDU",
        "colab_type": "code",
        "colab": {
          "base_uri": "https://localhost:8080/",
          "height": 51
        },
        "outputId": "b17e2158-a071-42f3-8a75-0d18d31db211"
      },
      "source": [
        "import numpy as np\n",
        "\n",
        "A = np.array([[0,                                                 0, 1, 0],\n",
        "              [0,                                                 0, 0, 1],\n",
        "              [(Θ3*Θ5-Θ2*Θ4)*g/D,                       Θ3*Θ5*g/D, 0, 0],\n",
        "              [(Θ2*Θ4-Θ3*Θ4+Θ1*Θ5-Θ3*Θ5)*g/D, (Θ1*Θ5-Θ3*Θ5)*g/D, 0, 0]])\n",
        "\n",
        "B = np.array([[        0],\n",
        "              [        0], \n",
        "              [     Θ2/D], \n",
        "              [(Θ3-Θ2)/D]])\n",
        "\n",
        "e, v = np.linalg.eig(A)\n",
        "print(\"Eigenvalues of A:\", e)"
      ],
      "execution_count": 3,
      "outputs": [
        {
          "output_type": "stream",
          "text": [
            "Eigenvalues of A: [-4.89039506+0.j          0.        +3.93830723j  0.        -3.93830723j\n",
            "  4.89039506+0.j        ]\n"
          ],
          "name": "stdout"
        }
      ]
    },
    {
      "cell_type": "code",
      "metadata": {
        "id": "C3mPGNPPf6RT",
        "colab_type": "code",
        "colab": {
          "base_uri": "https://localhost:8080/",
          "height": 34
        },
        "outputId": "7409ed34-0342-44bb-a787-6c3bbbd50836"
      },
      "source": [
        "C = np.concatenate([B, A.dot(B), A.dot(A).dot(B), A.dot(A).dot(A).dot(B)], axis=1)\n",
        "print(np.linalg.matrix_rank(C))"
      ],
      "execution_count": 127,
      "outputs": [
        {
          "output_type": "stream",
          "text": [
            "4\n"
          ],
          "name": "stdout"
        }
      ]
    },
    {
      "cell_type": "code",
      "metadata": {
        "id": "pDdZvl2njXsr",
        "colab_type": "code",
        "colab": {
          "base_uri": "https://localhost:8080/",
          "height": 559
        },
        "outputId": "889a5dd9-3695-43dc-a43a-554affa06974"
      },
      "source": [
        "from math import sin\n",
        "from scipy.integrate import odeint\n",
        "from scipy.signal import place_poles\n",
        "\n",
        "def ODE(x0, time, arg):\n",
        "  x_star = np.array([-np.pi/2, np.pi, 0, 0])\n",
        "  # linearized dynamics\n",
        "  x_bar = x0 - x_star\n",
        "  u = -arg.dot(x_bar)\n",
        "  # u = np.array([[0]])\n",
        "  return A.dot(x_bar) + B.dot(u).flatten()\n",
        "\n",
        "# poles = np.array([-1,-2,-3,-4])\n",
        "# K = place_poles(A,B, poles).gain_matrix\n",
        "\n",
        "from scipy.linalg import solve_continuous_are as are\n",
        "\n",
        "Q = np.array([[100, 0, 0, 0],\n",
        "              [0, 0, 0, 0],\n",
        "              [0, 0, 0, 0],\n",
        "              [0, 0, 0, 0]])\n",
        "R = np.array([[1]])\n",
        "S = are(A, B, Q, R)\n",
        "K = (B.transpose()).dot(S)\n",
        "x0 = np.array([np.pi,np.pi/4,-3,-4])\n",
        "t = np.linspace(0,10,1000)\n",
        "solution = odeint(ODE, x0, t, (K, ))\n",
        "plt.plot(t, solution[:, :2])\n",
        "plt.xlabel('Time, s')\n",
        "plt.ylabel('Angle, rad')\n",
        "plt.title(\"$q_1 = \\pi$, $q_2 = \\pi/4$, $\\dot{q_1} = -3$, $\\dot{q_2} = -4$\")\n",
        "plt.legend(['$q_1$', '$q_2$'])\n",
        "plt.show()"
      ],
      "execution_count": 53,
      "outputs": [
        {
          "output_type": "display_data",
          "data": {
            "image/png": "[encoded data removed]",
            "text/plain": [
              "<Figure size 720x540 with 1 Axes>"
            ]
          },
          "metadata": {
            "tags": [],
            "needs_background": "light"
          }
        }
      ]
    }
  ]
}